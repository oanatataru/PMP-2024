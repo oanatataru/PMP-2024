{
  "nbformat": 4,
  "nbformat_minor": 0,
  "metadata": {
    "colab": {
      "provenance": []
    },
    "kernelspec": {
      "name": "python3",
      "display_name": "Python 3"
    },
    "language_info": {
      "name": "python"
    }
  },
  "cells": [
    {
      "cell_type": "markdown",
      "source": [
        "# Ex 1"
      ],
      "metadata": {
        "id": "h53_hoBhCrtP"
      }
    },
    {
      "cell_type": "markdown",
      "source": [
        "Arătaţi echivalenţa dată în exemplul de la pagina 15 a cursului 3. Mai precis, arătaţi că dacă A, B şi C sunt variabile\n",
        "aleatoare discrete, atunci\n",
        "\n",
        "$$ A \\perp C \\mid B $$\n",
        "\n",
        "dacă şi numai dacă există două funcţii pozitive φA,B, φB,C şi o constantă de normalizare k > 0 astfel încât\n",
        "\n",
        "$$\n",
        "P(A = x_A, B = x_B, C = x_C) = \\frac{1}{k} \\varphi_{A,B}(x_A, x_B) \\varphi_{B,C}(x_B, x_C), \\quad \\forall x_A, x_B, x_C.\n",
        "$$\n",
        "\n",
        "Încărcaţi argumentul fie în Markdown/Latex, fie ca foto la foia de lucru."
      ],
      "metadata": {
        "id": "z6BS1t4rCupf"
      }
    },
    {
      "cell_type": "markdown",
      "source": [
        "\n",
        "**Rezolvare**\n",
        "\n",
        "Daca  $A \\perp C \\mid B$, trebuie sa aratam ca:\n",
        "\n",
        "$$\n",
        "P(A = x_A, B = x_B, C = x_C) = \\frac{1}{k} \\varphi_{A,B}(x_A, x_B) \\varphi_{B,C}(x_B, x_C), \\quad \\forall x_A, x_B, x_C.\n",
        "$$\n",
        "\n",
        "Stim ca distributia comuna se poate scrie ca produsul dintre distributiile marginale conditionate de $B$:\n",
        "\n",
        "$$\n",
        "P(A = x_A, B = x_B, C = x_C) = P(A = x_A \\mid B = x_B) P(C = x_C \\mid B = x_B) P(B = x_B).\n",
        "$$\n",
        "\n",
        "Putem considera astfel ca exista doua functii pozitive, fie ele $\\varphi_{A,B}(x_A, x_B)$ si $\\varphi_{B,C}(x_B, x_C)$, ce sunt asociate cu distributiile conditionate ale lui $A$ si $C$.\n",
        "\n",
        "Atunci vom putea scrie probabilitatea in raport cu aceste functii:\n",
        "\n",
        "$$\n",
        "P(A = x_A, B = x_B, C = x_C) = \\frac{1}{k} \\varphi_{A,B}(x_A, x_B) \\varphi_{B,C}(x_B, x_C), \\quad \\forall x_A, x_B, x_C.\n",
        "$$\n",
        "\n",
        "unde $k > 0$ este o constanta de normalizare ce asigura distributia data este valida (suma tuturor probabilitatilor este 1)\n",
        "\n"
      ],
      "metadata": {
        "id": "MVSU_cRaD3ZT"
      }
    },
    {
      "cell_type": "markdown",
      "source": [
        "# Ex 2"
      ],
      "metadata": {
        "id": "VfzHwNs8J55-"
      }
    },
    {
      "cell_type": "markdown",
      "source": [
        "Considerăm o regiune în care observăm vremea la mai multe staţii meteo, S1, S2, . . . , Sn. Fiecare staţie raportează\n",
        "una dintre cele trei stări: „Soare”, „Ploaie” sau „Nori”. Vrem să prezicem starea vremii la fiecare staţie meteo, luând în considerare dependenţele dintre staţiile adiacente. Considerăm că vremea la o staţie depinde direct de vremea la staţiile vecine.\n",
        "\n",
        "Vom folosi o reţea Markoviană pentru a modela vremea la mai multe locaţii şi vom inferea asupra vremii la o staţie\n",
        "necunoscută, pe baza datelor de la vecini.\n",
        "\n",
        "**Date de intrare** (introduse de către utilizator):\n",
        "\n",
        "* numărul de staţii meteo, n;\n",
        "\n",
        "* muchiile corespunzătoare reţelei Markoviene, adică vecinii fiecărei staţii. Pentru simplitate, vom presupune că reţeaua este aciclică, adică nu există clici de dimensiune 3;\n",
        "\n",
        "* probabilităţile iniţiale pentru fiecare staţie (exemplu: P(S) = 0.5, P(P) = 0.3, P(N) = 0.2).\n",
        "\n",
        "Folosind pgmpy, definiţi o reţea Markoviană pentru problema de mai sus, unde potenţialul pentru fiecare pereche de\n",
        "staţii vecine (adiacente) este dat de matricea:\n",
        "\n",
        "$$\n",
        "\\begin{bmatrix}\n",
        "0.7 & 0.2 & 0.1 \\\\\n",
        "0.2 & 0.6 & 0.2 \\\\\n",
        "0.1 & 0.3 & 0.6\n",
        "\\end{bmatrix}\n",
        "$$\n",
        "\n",
        "Folosiţi metoda Maximum A Posteriori (MAP) pentru a prezice starea vremii la fiecare staţie meteo (în pgmpy, puteţi\n",
        "apela funcţiile BeliefPropagation şi map_query)."
      ],
      "metadata": {
        "id": "JBfWFJ14PZDS"
      }
    },
    {
      "cell_type": "code",
      "source": [
        "!pip install pgmpy"
      ],
      "metadata": {
        "collapsed": true,
        "id": "pyvW39gfQfaK"
      },
      "execution_count": null,
      "outputs": []
    },
    {
      "cell_type": "code",
      "source": [
        "import numpy as np\n",
        "from pgmpy.models import MarkovNetwork\n",
        "from pgmpy.factors.discrete import DiscreteFactor\n",
        "from pgmpy.inference import BeliefPropagation\n",
        "\n",
        "\n",
        "n = int(input(\"Introduceți numărul de stații meteo (n): \"))\n",
        "\n",
        "edges = []\n",
        "for i in range(n - 1):\n",
        "    edges.append((i, i + 1))\n",
        "\n",
        "P_S = 0.5\n",
        "P_P = 0.3\n",
        "P_N = 0.2\n",
        "\n",
        "transition_matrix = np.array([\n",
        "    [0.7, 0.2, 0.1],\n",
        "    [0.2, 0.6, 0.2],\n",
        "    [0.1, 0.3, 0.6]\n",
        "])\n",
        "\n",
        "\n",
        "\n",
        "model = MarkovNetwork()\n",
        "\n",
        "for i in range(n):\n",
        "    model.add_node(i)\n",
        "\n",
        "for edge in edges:\n",
        "    model.add_edge(edge[0], edge[1])\n",
        "\n",
        "states = ['Soare', 'Ploaie', 'Nori']\n",
        "state_dict = {states[i]: i for i in range(len(states))}\n",
        "\n",
        "\n",
        "\n",
        "for edge in edges:\n",
        "    i, j = edge\n",
        "    potential = np.zeros((3, 3))\n",
        "\n",
        "    for a in range(3):\n",
        "        for b in range(3):\n",
        "            potential[a, b] = transition_matrix[a, b]\n",
        "\n",
        "    factor = DiscreteFactor([i, j], [3, 3], potential.flatten())\n",
        "    model.add_factors(factor)\n",
        "\n",
        "\n",
        "for i in range(n):\n",
        "    initial_prob = [P_S, P_P, P_N]\n",
        "    factor = DiscreteFactor([i], [3], initial_prob)\n",
        "    model.add_factors(factor)\n",
        "\n",
        "\n",
        "\n",
        "inference = BeliefPropagation(model)\n",
        "\n",
        "map_query = inference.map_query(variables=list(range(n)))\n",
        "\n",
        "for i in range(n):\n",
        "    print(f\"Stația {i + 1}: {states[map_query[i]]}\")\n"
      ],
      "metadata": {
        "colab": {
          "base_uri": "https://localhost:8080/"
        },
        "id": "ju3zKnx5T2fD",
        "outputId": "e6b0f069-2145-421c-9492-dacc3932596d"
      },
      "execution_count": null,
      "outputs": [
        {
          "output_type": "stream",
          "name": "stdout",
          "text": [
            "Introduceți numărul de stații meteo (n): 5\n",
            "Stația 1: Soare\n",
            "Stația 2: Soare\n",
            "Stația 3: Soare\n",
            "Stația 4: Soare\n",
            "Stația 5: Soare\n"
          ]
        }
      ]
    },
    {
      "cell_type": "markdown",
      "source": [
        "# Ex 3"
      ],
      "metadata": {
        "id": "TQbMQCKtKChZ"
      }
    },
    {
      "cell_type": "markdown",
      "source": [
        "O problemă clasică care poate fi rezolvată folosind Markov Random Fields (MRF) este cea a denoising-ului\n",
        "imaginii, unde obiectivul este de a curăţa o imagine cu zgomot (noise) prin estimarea valorii fiecărui pixel, bazându-ne\n",
        "pe vecinii săi.\n",
        "\n",
        "a) Alegeţi mai întâi o imagine de dimensiune foarte mică (de ordinul 5 × 5), pe care să o utilizaţi drept imagine\n",
        "originală. Imaginea poate fi creată în mod determinist sau aleatoriu."
      ],
      "metadata": {
        "id": "ULpkU23hXTh4"
      }
    },
    {
      "cell_type": "code",
      "source": [
        "import numpy as np\n",
        "import matplotlib.pyplot as plt\n",
        "\n",
        "# Imagine deterministă\n",
        "#original_image = np.array([[1, 0, 1, 0, 1],\n",
        "#                           [0, 1, 0, 1, 0],\n",
        "#                           [1, 0, 1, 0, 1],\n",
        "#                           [0, 1, 0, 1, 0],\n",
        "#                           [1, 0, 1, 0, 1]])\n",
        "\n",
        "# Imagine aleatorie\n",
        "original_image = np.random.randint(0, 2, size=(5, 5))\n",
        "\n",
        "plt.figure(figsize=(5, 5))\n",
        "plt.imshow(original_image, cmap='gray')\n",
        "plt.title(\"Imagine Originală\")\n",
        "plt.show()\n"
      ],
      "metadata": {
        "colab": {
          "base_uri": "https://localhost:8080/",
          "height": 468
        },
        "id": "n9OY7gZ0lU4Q",
        "outputId": "59fd4a8a-2101-4e6a-88fa-ffaec4cde9bd"
      },
      "execution_count": null,
      "outputs": [
        {
          "output_type": "display_data",
          "data": {
            "text/plain": [
              "<Figure size 500x500 with 1 Axes>"
            ],
            "image/png": "[encoded data removed]"
          },
          "metadata": {}
        }
      ]
    },
    {
      "cell_type": "markdown",
      "source": [
        "b) Alegeţi la întâmplare un număr de pixeli (în jur de 10%) pentru a fi modificaţi şi creaţi astfel o modificare zgomotoasă a imaginii originale.\n",
        "\n",
        "Considerăm un grid 2D, în care fiecare nod (pixel) este conectat la cei patru vecini direcţi (N, S, E, W). Energia totală E(x) a unui grid poate fi descrisă de două componente:\n",
        "\n",
        "* O componentă care penalizează discrepanţele între variabilele observate şi cele latente.\n",
        "\n",
        "* O componentă care penalizează discrepanţele între pixelii vecini, favorizând o imagine mai uniformă.\n",
        "\n",
        "Funcţia de energie poate fi scrisă astfel:\n",
        "\n",
        "$$\n",
        "E(x) = \\sum_{i} \\lambda (x_i - y_i)^2 + \\sum_{(i,j)} (x_i - x_j)^2\n",
        "$$\n",
        "\n",
        "unde\n",
        "\n",
        "* $x_i$ este pixelul curat de estimat;\n",
        "\n",
        "* $y_i$ este pixelul observat;\n",
        "\n",
        "* $λ$ este un factor de regularizare care controlează influenţa zgomotului, ales de utilizator;\n",
        "\n",
        "* $(i, j)$ reprezintă perechi de pixeli vecini."
      ],
      "metadata": {
        "id": "NoqJhKSyqvTh"
      }
    },
    {
      "cell_type": "code",
      "source": [
        "import numpy as np\n",
        "import matplotlib.pyplot as plt\n",
        "\n",
        "# Imagine aleatorie\n",
        "original_image = np.random.randint(0, 2, size=(5, 5))\n",
        "\n",
        "plt.figure(figsize=(5, 5))\n",
        "plt.imshow(original_image, cmap='gray')\n",
        "plt.title(\"Imagine Originală\")\n",
        "plt.show()\n",
        "\n",
        "\n",
        "# Adauga zgomot\n",
        "noisy_image = original_image.copy()\n",
        "num_noisy_pixels = int(0.1 * original_image.size)\n",
        "\n",
        "coords = np.random.choice(original_image.size, num_noisy_pixels, replace=False)\n",
        "for coord in coords:\n",
        "    i, j = divmod(coord, original_image.shape[1])\n",
        "    noisy_image[i, j] = 1 - noisy_image[i, j]\n",
        "\n",
        "\n",
        "plt.figure(figsize=(5, 5))\n",
        "plt.imshow(noisy_image, cmap='gray')\n",
        "plt.title(\"Imagine cu Zgomot\")\n",
        "plt.show()\n",
        "\n",
        "\n",
        "\n",
        "# Funcția de energie\n",
        "def compute_energy(original_image, noisy_image, lambd):\n",
        "    energy = 0\n",
        "\n",
        "    energy += lambd * np.sum((original_image - noisy_image) ** 2)\n",
        "\n",
        "    rows, cols = original_image.shape\n",
        "    for i in range(rows):\n",
        "        for j in range(cols):\n",
        "            if i > 0:  # vecinul nord\n",
        "                energy += (noisy_image[i, j] - noisy_image[i-1, j]) ** 2\n",
        "            if i < rows - 1:  # vecinul sud\n",
        "                energy += (noisy_image[i, j] - noisy_image[i+1, j]) ** 2\n",
        "            if j > 0:  # vecinul vest\n",
        "                energy += (noisy_image[i, j] - noisy_image[i, j-1]) ** 2\n",
        "            if j < cols - 1:  # vecinul est\n",
        "                energy += (noisy_image[i, j] - noisy_image[i, j+1]) ** 2\n",
        "\n",
        "    return energy\n",
        "\n",
        "\n",
        "lambd = 0.5\n",
        "\n",
        "\n",
        "energy = compute_energy(original_image, noisy_image, lambd)\n",
        "print(f\"\\nTotal Energy: {energy}\")\n"
      ],
      "metadata": {
        "colab": {
          "base_uri": "https://localhost:8080/",
          "height": 954
        },
        "id": "hy6eP-dJquPO",
        "outputId": "f64f23e8-d7e6-4518-f3e1-8e76c5a8f0fa"
      },
      "execution_count": null,
      "outputs": [
        {
          "output_type": "display_data",
          "data": {
            "text/plain": [
              "<Figure size 500x500 with 1 Axes>"
            ],
            "image/png": "[encoded data removed]"
          },
          "metadata": {}
        },
        {
          "output_type": "display_data",
          "data": {
            "text/plain": [
              "<Figure size 500x500 with 1 Axes>"
            ],
            "image/png": "[encoded data removed]"
          },
          "metadata": {}
        },
        {
          "output_type": "stream",
          "name": "stdout",
          "text": [
            "\n",
            "Total Energy: 47.0\n"
          ]
        }
      ]
    },
    {
      "cell_type": "markdown",
      "source": [
        "c) Folosind pgmpy, definiţi o reţea Markoviană care sa descrie contextul de mai sus."
      ],
      "metadata": {
        "id": "fwVGThCLtY8x"
      }
    },
    {
      "cell_type": "code",
      "source": [
        "from pgmpy.models import MarkovNetwork\n",
        "from pgmpy.factors.discrete import DiscreteFactor\n",
        "from pgmpy.inference import BeliefPropagation\n",
        "\n",
        "import numpy as np\n",
        "\n",
        "\n",
        "original_image = np.random.randint(0, 2, size=(5, 5))\n",
        "noisy_image = original_image.copy()\n",
        "\n",
        "model = MarkovNetwork()\n",
        "\n",
        "\n",
        "nodes = [(i, j) for i in range(5) for j in range(5)]\n",
        "model.add_nodes_from(nodes)\n",
        "\n",
        "\n",
        "for i in range(5):\n",
        "    for j in range(5):\n",
        "        if i > 0:  # Vecinul nord\n",
        "            model.add_edge((i, j), (i-1, j))\n",
        "        if i < 4:  # Vecinul sud\n",
        "            model.add_edge((i, j), (i+1, j))\n",
        "        if j > 0:  # Vecinul vest\n",
        "            model.add_edge((i, j), (i, j-1))\n",
        "        if j < 4:  # Vecinul est\n",
        "            model.add_edge((i, j), (i, j+1))\n",
        "\n",
        "\n",
        "lambda_param = 0.5\n",
        "\n",
        "potentials = np.array([[np.exp(0), np.exp(-lambda_param)],\n",
        "                       [np.exp(-lambda_param), np.exp(0)]])\n",
        "\n",
        "\n",
        "for edge in model.edges():\n",
        "    factor = DiscreteFactor(variables=edge, cardinality=[2, 2], values=potentials.flatten())\n",
        "    model.add_factors(factor)\n",
        "\n",
        "print(model.check_model())\n",
        "\n",
        "\n",
        "inference = BeliefPropagation(model)\n",
        "\n",
        "map_query = inference.map_query()\n",
        "print(map_query)\n"
      ],
      "metadata": {
        "colab": {
          "base_uri": "https://localhost:8080/"
        },
        "id": "4QOimuWutbdp",
        "outputId": "26440c47-a5fa-4f6c-da2f-bc74e279c1d4"
      },
      "execution_count": 45,
      "outputs": [
        {
          "output_type": "stream",
          "name": "stdout",
          "text": [
            "True\n",
            "{(0, 0): 1, (0, 1): 1, (0, 2): 1, (0, 3): 1, (0, 4): 1, (1, 0): 1, (1, 1): 1, (1, 2): 1, (1, 3): 1, (1, 4): 1, (2, 0): 1, (2, 1): 1, (2, 2): 1, (2, 3): 1, (2, 4): 1, (3, 0): 1, (3, 1): 1, (3, 2): 1, (3, 3): 1, (3, 4): 1, (4, 0): 1, (4, 1): 1, (4, 2): 1, (4, 3): 1, (4, 4): 1}\n"
          ]
        }
      ]
    },
    {
      "cell_type": "markdown",
      "source": [
        "d) Folosiţi metoda Maximum A Posteriori (MAP) pentru a estima imaginea originală pornind de la cea modificată\n",
        "(la fel ca la Ex. 2, puteţi apela funcţiile BeliefPropagation şi map_query)."
      ],
      "metadata": {
        "id": "kVFd4asq2V_f"
      }
    },
    {
      "cell_type": "code",
      "source": [
        "from pgmpy.models import MarkovNetwork\n",
        "from pgmpy.factors.discrete import DiscreteFactor\n",
        "from pgmpy.inference import BeliefPropagation\n",
        "import numpy as np\n",
        "import matplotlib.pyplot as plt\n",
        "\n",
        "\n",
        "original_image = np.array([[1, 0, 1, 0, 1],\n",
        "                           [0, 1, 0, 1, 0],\n",
        "                           [1, 0, 1, 0, 1],\n",
        "                           [0, 1, 0, 1, 0],\n",
        "                           [1, 0, 1, 0, 1]])\n",
        "\n",
        "noisy_image = original_image.copy()\n",
        "\n",
        "num_noisy_pixels = int(0.1 * noisy_image.size)\n",
        "noisy_indices = np.random.choice(noisy_image.size, num_noisy_pixels, replace=False)\n",
        "noisy_image[np.unravel_index(noisy_indices, noisy_image.shape)] = 1 - noisy_image[np.unravel_index(noisy_indices, noisy_image.shape)]\n",
        "\n",
        "\n",
        "plt.figure(figsize=(10, 5))\n",
        "plt.subplot(1, 2, 1)\n",
        "plt.imshow(original_image, cmap='gray')\n",
        "plt.title(\"Imagine Originală\")\n",
        "plt.subplot(1, 2, 2)\n",
        "plt.imshow(noisy_image, cmap='gray')\n",
        "plt.title(\"Imagine Zgomotoasă\")\n",
        "plt.show()\n",
        "\n",
        "\n",
        "model = MarkovNetwork()\n",
        "\n",
        "nodes = [(i, j) for i in range(5) for j in range(5)]\n",
        "model.add_nodes_from(nodes)\n",
        "\n",
        "\n",
        "for i in range(5):\n",
        "    for j in range(5):\n",
        "        if i > 0:  # Vecin nord\n",
        "            model.add_edge((i, j), (i-1, j))\n",
        "        if i < 4:  # Vecin sud\n",
        "            model.add_edge((i, j), (i+1, j))\n",
        "        if j > 0:  # Vecin vest\n",
        "            model.add_edge((i, j), (i, j-1))\n",
        "        if j < 4:  # Vecin est\n",
        "            model.add_edge((i, j), (i, j+1))\n",
        "\n",
        "\n",
        "lambda_param = 0.6\n",
        "\n",
        "potentials = np.array([[np.exp(0), np.exp(-lambda_param)],\n",
        "                       [np.exp(-lambda_param), np.exp(0)]])\n",
        "\n",
        "\n",
        "for edge in model.edges():\n",
        "    factor = DiscreteFactor(variables=edge, cardinality=[2, 2], values=potentials.flatten())\n",
        "    model.add_factors(factor)\n",
        "\n",
        "\n",
        "assert model.check_model()\n",
        "\n",
        "inference = BeliefPropagation(model)\n",
        "map_query = inference.map_query()\n",
        "\n",
        "cleaned_image = np.zeros_like(original_image)\n",
        "for (i, j), value in map_query.items():\n",
        "    cleaned_image[i, j] = value\n",
        "\n",
        "\n",
        "plt.imshow(cleaned_image, cmap='gray')\n",
        "plt.title(\"Imagine Curățată Estimată (MAP)\")\n",
        "plt.show()\n"
      ],
      "metadata": {
        "colab": {
          "base_uri": "https://localhost:8080/",
          "height": 870
        },
        "id": "60YdID_Q2eT1",
        "outputId": "29d8ba6b-c44d-47b6-9186-bb1cad46556d"
      },
      "execution_count": 50,
      "outputs": [
        {
          "output_type": "display_data",
          "data": {
            "text/plain": [
              "<Figure size 1000x500 with 2 Axes>"
            ],
            "image/png": "[encoded data removed]"
          },
          "metadata": {}
        },
        {
          "output_type": "display_data",
          "data": {
            "text/plain": [
              "<Figure size 640x480 with 1 Axes>"
            ],
            "image/png": "[encoded data removed]"
          },
          "metadata": {}
        }
      ]
    }
  ]
}