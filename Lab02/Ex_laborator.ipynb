{
  "nbformat": 4,
  "nbformat_minor": 0,
  "metadata": {
    "colab": {
      "provenance": []
    },
    "kernelspec": {
      "name": "python3",
      "display_name": "Python 3"
    },
    "language_info": {
      "name": "python"
    }
  },
  "cells": [
    {
      "cell_type": "markdown",
      "source": [
        "Consideram o urna in care avem 3 bine rosii, 4 bile albastre si 2 negre. Aruncam un zar: daca obtinem un numar prim, adaugam o bila neagra in urna, daca obtinem 6, adaugam o bila rosie, iar in celelalte cazuri adaugam o bila albastra. Apoi extragem o bila din urna.\n",
        "\n",
        "a) Simulati in python experimentul de mai sus"
      ],
      "metadata": {
        "id": "aMdUAeConfav"
      }
    },
    {
      "cell_type": "code",
      "execution_count": 18,
      "metadata": {
        "colab": {
          "base_uri": "https://localhost:8080/"
        },
        "id": "ATAqwfH8ndIZ",
        "outputId": "0344d4c9-b97e-4c5c-ec16-02e0d13ebb73"
      },
      "outputs": [
        {
          "output_type": "stream",
          "name": "stdout",
          "text": [
            "Bila extrasă este: rosie\n"
          ]
        }
      ],
      "source": [
        "import random\n",
        "\n",
        "def experiment():\n",
        "\n",
        "    urna = [\"rosie\"] * 3 + [\"albastra\"] * 4 + [\"neagra\"] * 2\n",
        "\n",
        "    zar = random.randint(1, 6)\n",
        "\n",
        "    # Modificam urna\n",
        "    if zar in [2, 3, 5]:\n",
        "        urna.append(\"neagra\")\n",
        "    elif zar == 6:\n",
        "        urna.append(\"rosie\")\n",
        "    else:\n",
        "        urna.append(\"albastra\")\n",
        "\n",
        "    # Extragem random o bila\n",
        "    bila_extrasa = random.choice(urna)\n",
        "\n",
        "    return bila_extrasa\n",
        "\n",
        "\n",
        "\n",
        "# Simulare experiment\n",
        "\n",
        "bila = experiment()\n",
        "print(f\"Bila extrasă este: {bila}\")\n"
      ]
    },
    {
      "cell_type": "markdown",
      "source": [
        "b) Folosind modelarea facuta, aproximati probabilitatea de a obtine o bila rosie"
      ],
      "metadata": {
        "id": "RNX6PL1kpEVm"
      }
    },
    {
      "cell_type": "code",
      "source": [
        "import random\n",
        "\n",
        "def experiment():\n",
        "\n",
        "    urna = [\"rosie\"] * 3 + [\"albastra\"] * 4 + [\"neagra\"] * 2\n",
        "\n",
        "    zar = random.randint(1, 6)\n",
        "\n",
        "    # Modificam urna\n",
        "    if zar in [2, 3, 5]:\n",
        "        urna.append(\"neagra\")\n",
        "    elif zar == 6:\n",
        "        urna.append(\"rosie\")\n",
        "    else:\n",
        "        urna.append(\"albastra\")\n",
        "\n",
        "    # Extragem random o bila\n",
        "    bila_extrasa = random.choice(urna)\n",
        "\n",
        "    return bila_extrasa\n",
        "\n",
        "\n",
        "# Statistici\n",
        "\n",
        "\n",
        "nr_simulari = 10000\n",
        "bile_rosii = 0\n",
        "\n",
        "for _ in range(nr_simulari):\n",
        "    bila = experiment()\n",
        "    if bila == \"rosie\":\n",
        "        bile_rosii += 1\n",
        "\n",
        "probabil_rosie = bile_rosii / nr_simulari\n",
        "\n",
        "print(f\"Probabilitatea de a extrage o bilă roșie este: {probabil_rosie:.4f}\")"
      ],
      "metadata": {
        "colab": {
          "base_uri": "https://localhost:8080/"
        },
        "id": "az6Lu555pPq1",
        "outputId": "eab068ff-d2cb-499f-cb5a-0089c78faa5e"
      },
      "execution_count": 16,
      "outputs": [
        {
          "output_type": "stream",
          "name": "stdout",
          "text": [
            "Probabilitatea de a extrage o bilă roșie este: 0.3264\n"
          ]
        }
      ]
    }
  ]
}