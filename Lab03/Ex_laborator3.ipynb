{
  "nbformat": 4,
  "nbformat_minor": 0,
  "metadata": {
    "colab": {
      "provenance": []
    },
    "kernelspec": {
      "name": "python3",
      "display_name": "Python 3"
    },
    "language_info": {
      "name": "python"
    }
  },
  "cells": [
    {
      "cell_type": "markdown",
      "source": [
        "a) Identificati independentele din retea.\n",
        "\n",
        "O si L sunt independete conditionat de S => când cunoaștem dacă emailul este spam sau nu (S), probabilitatea de apariție a cuvântului \"ofertă\" (O) și prezența linkurilor (L) sunt independente. => 𝑂⊥𝐿 ∣ 𝑆.\n",
        "\n",
        "M depinde atat de S, cat si de L =>\n",
        "Nu există independență condiționată între M, S si L deoarece ambele variabile influențează direct M.\n"
      ],
      "metadata": {
        "id": "mNIDyZZVtYDl"
      }
    },
    {
      "cell_type": "code",
      "source": [
        "pip install pgmpy"
      ],
      "metadata": {
        "id": "QuQy_4nDtXbl"
      },
      "execution_count": null,
      "outputs": []
    },
    {
      "cell_type": "code",
      "source": [
        "from pgmpy.models import BayesianNetwork\n",
        "from pgmpy.factors.discrete import TabularCPD\n",
        "from pgmpy.inference import VariableElimination\n",
        "\n",
        "model = BayesianNetwork([\n",
        "    ('S', 'O'),\n",
        "    ('S', 'L'),\n",
        "    ('S', 'M'),\n",
        "    ('L', 'M')\n",
        "])\n",
        "\n",
        "\n",
        "\n",
        "\n",
        "cpd_S = TabularCPD(variable='S', variable_card=2, values=[[0.6], [0.4]])\n",
        "\n",
        "cpd_O = TabularCPD(variable='O', variable_card=2,\n",
        "                   values=[[0.9, 0.3], [0.1, 0.7]],\n",
        "                   evidence=['S'], evidence_card=[2])\n",
        "\n",
        "cpd_L = TabularCPD(variable='L', variable_card=2,\n",
        "                   values=[[0.7, 0.2], [0.3, 0.8]],\n",
        "                   evidence=['S'], evidence_card=[2])\n",
        "\n",
        "cpd_M = TabularCPD(variable='M', variable_card=2,\n",
        "                   values=[[0.8, 0.4, 0.5, 0.1], [0.2, 0.6, 0.5, 0.9]],\n",
        "                   evidence=['S', 'L'], evidence_card=[2, 2])\n",
        "\n",
        "\n",
        "\n",
        "model.add_cpds(cpd_S, cpd_O, cpd_L, cpd_M)\n",
        "\n",
        "model.check_model()\n",
        "\n",
        "active_trail_O_L_given_S = model.active_trail_nodes('O', observed=['S'])\n",
        "\n",
        "independence_test = 'L' not in active_trail_O_L_given_S\n",
        "\n",
        "independence_test\n"
      ],
      "metadata": {
        "colab": {
          "base_uri": "https://localhost:8080/"
        },
        "id": "2ZOL7IQVtjDL",
        "outputId": "c2cb30df-74ed-467c-bd03-6cf8a52a0188"
      },
      "execution_count": 5,
      "outputs": [
        {
          "output_type": "execute_result",
          "data": {
            "text/plain": [
              "True"
            ]
          },
          "metadata": {},
          "execution_count": 5
        }
      ]
    },
    {
      "cell_type": "markdown",
      "source": [
        "b) Determinati cum clasifica reteaua bayesiana emailuirle in functie de O, L si M."
      ],
      "metadata": {
        "id": "rVQaSLEPv73I"
      }
    },
    {
      "cell_type": "code",
      "source": [
        "from pgmpy.models import BayesianNetwork\n",
        "from pgmpy.factors.discrete import TabularCPD\n",
        "from pgmpy.inference import VariableElimination\n",
        "\n",
        "model = BayesianNetwork([\n",
        "    ('S', 'O'),\n",
        "    ('S', 'L'),\n",
        "    ('S', 'M'),\n",
        "    ('L', 'M')\n",
        "])\n",
        "\n",
        "\n",
        "\n",
        "cpd_S = TabularCPD(variable='S', variable_card=2, values=[[0.6], [0.4]])\n",
        "\n",
        "cpd_O = TabularCPD(variable='O', variable_card=2,\n",
        "                   values=[[0.9, 0.3], [0.1, 0.7]],\n",
        "                   evidence=['S'], evidence_card=[2])\n",
        "\n",
        "cpd_L = TabularCPD(variable='L', variable_card=2,\n",
        "                   values=[[0.7, 0.2], [0.3, 0.8]],\n",
        "                   evidence=['S'], evidence_card=[2])\n",
        "\n",
        "cpd_M = TabularCPD(variable='M', variable_card=2,\n",
        "                   values=[[0.8, 0.4, 0.5, 0.1], [0.2, 0.6, 0.5, 0.9]],\n",
        "                   evidence=['S', 'L'], evidence_card=[2, 2])\n",
        "\n",
        "model.add_cpds(cpd_S, cpd_O, cpd_L, cpd_M)\n",
        "\n",
        "model.check_model()\n",
        "\n",
        "inference = VariableElimination(model)\n",
        "\n",
        "\n",
        "\n",
        "def classify_email(O_value, L_value, M_value):\n",
        "    # Calculeaza P(S=1 | O, L, M)\n",
        "    result = inference.query(variables=['S'], evidence={'O': O_value, 'L': L_value, 'M': M_value})\n",
        "    prob_spam = result.values[1]  # P(S=1)\n",
        "    prob_non_spam = result.values[0]  # P(S=0)\n",
        "\n",
        "    classification = \"Spam\" if prob_spam > prob_non_spam else \"Non-Spam\"\n",
        "\n",
        "    return prob_spam, prob_non_spam, classification\n",
        "\n",
        "\n",
        "test_cases = [\n",
        "    {'O': 1, 'L': 1, 'M': 1},\n",
        "    {'O': 1, 'L': 0, 'M': 0},\n",
        "    {'O': 0, 'L': 1, 'M': 1},\n",
        "    {'O': 0, 'L': 0, 'M': 0}\n",
        "]\n",
        "\n",
        "for case in test_cases:\n",
        "    prob_spam, prob_non_spam, classification = classify_email(case['O'], case['L'], case['M'])\n",
        "    print(f\"O={case['O']}, L={case['L']}, M={case['M']} -> P(Spam)={prob_spam:.4f}, P(Non-Spam)={prob_non_spam:.4f}, Classified as: {classification}\")\n"
      ],
      "metadata": {
        "colab": {
          "base_uri": "https://localhost:8080/"
        },
        "id": "3VlM1bMcwIFt",
        "outputId": "8d741aca-761d-4c58-c98d-ef79e3382f94"
      },
      "execution_count": 6,
      "outputs": [
        {
          "output_type": "stream",
          "name": "stdout",
          "text": [
            "O=1, L=1, M=1 -> P(Spam)=0.9492, P(Non-Spam)=0.0508, Classified as: Spam\n",
            "O=1, L=0, M=0 -> P(Spam)=0.4545, P(Non-Spam)=0.5455, Classified as: Non-Spam\n",
            "O=0, L=1, M=1 -> P(Spam)=0.4706, P(Non-Spam)=0.5294, Classified as: Non-Spam\n",
            "O=0, L=0, M=0 -> P(Spam)=0.0382, P(Non-Spam)=0.9618, Classified as: Non-Spam\n"
          ]
        }
      ]
    }
  ]
}