{
  "nbformat": 4,
  "nbformat_minor": 0,
  "metadata": {
    "colab": {
      "provenance": []
    },
    "kernelspec": {
      "name": "python3",
      "display_name": "Python 3"
    },
    "language_info": {
      "name": "python"
    }
  },
  "cells": [
    {
      "cell_type": "markdown",
      "source": [
        "# Ex 1"
      ],
      "metadata": {
        "id": "cpwxIrgJj7fM"
      }
    },
    {
      "cell_type": "markdown",
      "source": [
        "Pe baza definiţiei unui model Markov ascuns, demonstraţi formula recurenţei pentru variabila forward de la\n",
        "pagina 23 a cursului 4. Încărcaţi argumentul fie în Markdown/Latex, fie ca foto la foia de lucru."
      ],
      "metadata": {
        "id": "4r5-3F9Dj9rt"
      }
    },
    {
      "cell_type": "markdown",
      "source": [
        "Avem de demonstrat formula $\\alpha_t(i) = P(o_1, o_2, \\dots, o_t, S_t = q_i \\mid \\lambda)$.\n",
        "\n",
        "Observam ca $\\alpha_t(i)$ este probabilitatea partiala (forward) a observarii secventei $(o_1, o_2, \\dots, o_t)$ si a ajungerii in starea $q_i$ in timpul $t$, conditionata de modelul $\\lambda$.\n",
        "\n",
        "Vom demonstra formula prin recurenta:\n",
        "\n",
        "1. Pentru $t = 1$, $\\alpha_t(i)$ este probabilitatea stistemului de a incepe in starea $q_i$ si a genera observatia $o_1$:\n",
        "\n",
        "$$\\alpha_1(i) = P(o_1, S_1 = q_i \\mid \\lambda) = P(S_1 = q_i \\mid \\lambda) \\cdot P(o_1 \\mid S_1 = q_i, \\lambda)$$\n",
        "\n",
        "Cum $P(S_1 = q_i \\mid \\lambda) = \\pi_i$ si $P(o_1 \\mid S_1 = q_i, \\lambda) = b_i(o_1)$, avem:\n",
        "\n",
        "$$\\alpha_1(i) = \\pi_i \\cdot b_i(o_1)$$\n",
        "\n",
        "2. Pentrt $t > 1$, folosim independenta conditionata din modelul Markov ascuns pt a exprima $\\alpha_t(i)$ in functie de valorile anterioare $\\alpha_{t-1}(j)$:\n",
        "\n",
        "$$\\alpha_t(i) = P(o_1, o_2, \\dots, o_t, S_t = q_i \\mid \\lambda)$$\n",
        "\n",
        "Exprimam probabilitatea ca suma peste toate starile posibile ale timpului $t - 1$ (notate $q_j$), deoarece $S_t$ depinde doar de $S_{t-1}$:\n",
        "\n",
        "$$\\alpha_t(i) = \\sum_{j=1}^{N} P(o_1, o_2, \\dots, o_t, S_{t-1} = q_j, S_t = q_i \\mid \\lambda)$$\n",
        "\n",
        "Cum $P(o_1, o_2, \\dots, o_{t-1}, S_{t-1} = q_j \\mid \\lambda)$ este tocmai $\\alpha_{t-1}(j)$, inlocuim si avem:\n",
        "\n",
        "$$\\alpha_{t}(i) = \\sum_{j=1}^{N} \\alpha_{t-1}(j) \\cdot a_{ji} \\cdot b_{i}(o_{t})$$\n",
        "\n",
        "Aceasta e formula recursiva pt $\\alpha_{t}(i)$."
      ],
      "metadata": {
        "id": "VD3074NXkqTr"
      }
    },
    {
      "cell_type": "markdown",
      "source": [
        "# Ex 2"
      ],
      "metadata": {
        "id": "5Qs0ALDJwGYl"
      }
    },
    {
      "cell_type": "markdown",
      "source": [
        "Reluaţi exerciţiul de la laborator, de data aceasta implementând direct alogritmul Viterbi descris în cursul 4. Mai\n",
        "jos redăm enunţul acestuia:\n",
        "\n",
        "Un profesor dă teste care pot fi dificile, medii sau uşoare. Probabilitatea dificultăţii primului test este aceeaşi. Dacă, la\n",
        "un moment dat, dă un test dificil, următorul test poate fi doar mediu sau uşor, cu aceeaşi probabilitate. Însă dacă dă un\n",
        "test mediu sau uşor, atunci următorul test va fi dificil cu probabilitate 0.5, sau mediu sau uşor cu aceeaşi probabilitate,\n",
        "0.25.\n",
        "\n",
        "Nota unui student la test, FB, B, S sau NS depinde de dificultatea testului. Astfel, probabilităţile condiţionate ale notei\n",
        "obţinute, dată fiind dificultatea testului, sunt:\n",
        "\n",
        "- test dificil: [0.1, 0.2, 0.4, 0.3];\n",
        "\n",
        "- test mediu: [0.15, 0.25, 0.5, 0.1];\n",
        "\n",
        "- test uşor: [0.2, 0.3, 0.4, 0.1].\n",
        "\n",
        "Să presupunem că aţi observat următoarea secvenţă de note: FB, FB, S, B, B, S, B, B, NS, B, B, S. Determinaţi cea mai\n",
        "probabilă secvenţă de dificultăţi pentru testele corespunzaătoare şi probabilitatea acesteia."
      ],
      "metadata": {
        "id": "dijSBCc9wK54"
      }
    },
    {
      "cell_type": "code",
      "source": [
        "import numpy as np\n",
        "\n",
        "states = ['Dificil', 'Mediu', 'Usor']\n",
        "observations = ['FB', 'B', 'S', 'NS']\n",
        "obs_sequence = ['FB', 'FB', 'S', 'B', 'B', 'S', 'B', 'B', 'NS', 'B', 'B', 'S']\n",
        "\n",
        "start_prob = np.array([1/3, 1/3, 1/3])\n",
        "\n",
        "trans_prob = {\n",
        "    'Dificil': np.array([0, 0.5, 0.5]),\n",
        "    'Mediu': np.array([0.5, 0.25, 0.25]),\n",
        "    'Usor': np.array([0.5, 0.25, 0.25])\n",
        "}\n",
        "\n",
        "emit_prob = {\n",
        "    'Dificil': np.array([0.1, 0.2, 0.4, 0.3]),\n",
        "    'Mediu': np.array([0.15, 0.25, 0.5, 0.1]),\n",
        "    'Usor': np.array([0.2, 0.3, 0.4, 0.1])\n",
        "}\n",
        "\n",
        "T = len(obs_sequence)\n",
        "N = len(states)\n",
        "delta = np.zeros((T, N))\n",
        "psi = np.zeros((T, N), dtype=int)\n",
        "\n",
        "for i, state in enumerate(states):\n",
        "    delta[0, i] = start_prob[i] * emit_prob[state][observations.index(obs_sequence[0])]\n",
        "\n",
        "for t in range(1, T):\n",
        "    for j, next_state in enumerate(states):\n",
        "        max_prob, max_state = max(\n",
        "            (delta[t-1, i] * trans_prob[states[i]][j], i) for i in range(N)\n",
        "        )\n",
        "        delta[t, j] = max_prob * emit_prob[next_state][observations.index(obs_sequence[t])]\n",
        "        psi[t, j] = max_state\n",
        "\n",
        "final_prob, final_state = max((delta[T-1, i], i) for i in range(N))\n",
        "\n",
        "best_path = [final_state]\n",
        "for t in range(T-1, 0, -1):\n",
        "    best_path.append(psi[t, best_path[-1]])\n",
        "\n",
        "best_path.reverse()\n",
        "state_sequence = [states[i] for i in best_path]\n",
        "\n",
        "print(\"Cea mai probabilă secvență de dificultăți:\", state_sequence)\n",
        "print(\"Probabilitatea acestei secvențe:\", final_prob)\n"
      ],
      "metadata": {
        "colab": {
          "base_uri": "https://localhost:8080/"
        },
        "id": "o0bDBdm2xfQ5",
        "outputId": "c9c62099-5da2-4042-cac8-60bfd1c2e114"
      },
      "execution_count": 7,
      "outputs": [
        {
          "output_type": "stream",
          "name": "stdout",
          "text": [
            "Cea mai probabilă secvență de dificultăți: ['Usor', 'Usor', 'Dificil', 'Usor', 'Dificil', 'Mediu', 'Dificil', 'Usor', 'Dificil', 'Usor', 'Dificil', 'Mediu']\n",
            "Probabilitatea acestei secvențe: 2.1093750000000005e-11\n"
          ]
        }
      ]
    }
  ]
}