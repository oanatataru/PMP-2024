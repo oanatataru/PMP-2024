{
  "nbformat": 4,
  "nbformat_minor": 0,
  "metadata": {
    "colab": {
      "provenance": []
    },
    "kernelspec": {
      "name": "python3",
      "display_name": "Python 3"
    },
    "language_info": {
      "name": "python"
    }
  },
  "cells": [
    {
      "cell_type": "markdown",
      "source": [
        "# Ex 1"
      ],
      "metadata": {
        "id": "Xxv87aBDza6z"
      }
    },
    {
      "cell_type": "markdown",
      "source": [
        "(formula lui Bayes). Să presupunem că investigăm o boală (B), care afectează doar un procent din populaţie (P(B) = 0.01). Avem un test de diagnosticare pentru această boală, care are următoarele caracteristici:\n",
        "\n",
        "- Sensibilitate (probabilitatea ca testul să fie pozitiv dacă persoana este bolnavă): P(Test = Pozitiv∣B) = 0.95\n",
        "\n",
        "- Specificitate (probabilitatea ca testul să fie negativ dacă persoana nu este bolnavă): P(Test = Negativ∣¬B) = 0.90\n",
        "\n",
        "a) Dacă o persoană este testată şi rezultatul este pozitiv, care este probabilitatea ca aceasta să fie efectiv bolnavă?\n",
        "Cum explicaţí rezultatul?\n",
        "\n",
        "$$\n",
        "P(B \\mid \\text{Test} = \\text{Pozitiv}) = \\frac{P(\\text{Test} = \\text{Pozitiv} \\mid B) \\cdot P(B)}{P(\\text{Test} = \\text{Pozitiv})}\n",
        "$$\n",
        "\n",
        "Calculam $ P(\\text{Test} = \\text{Pozitiv}) $, folosind teorema probabilitatilor totale:\n",
        "\n",
        "$$\n",
        "P(\\text{Test} = \\text{Pozitiv}) = P(\\text{Test} = \\text{Pozitiv} \\mid B) \\cdot P(B) + P(\\text{Test} = \\text{Pozitiv} \\mid \\neg B) \\cdot P(\\neg B)\n",
        "$$\n",
        "\n",
        "unde:\n",
        "\n",
        "$P(\\text{Test} = \\text{Pozitiv} \\mid \\neg B)$ se calculeaza asa:\n",
        "\n",
        "$$\n",
        "P(\\text{Test} = \\text{Pozitiv} \\mid \\neg B) = 1 - P(\\text{Test} = \\text{Negativ} \\mid \\neg B) = 1 - 0.90 = 0.10\n",
        "$$\n",
        "\n",
        "Deci avem:\n",
        "\n",
        "$$\n",
        "P(\\neg B) = 1 - P(B) = 1 - 0.01 = 0.99\n",
        "$$\n",
        "\n",
        "Acum putem calcula \\( P(\\text{Test} = \\text{Pozitiv}) \\):\n",
        "\n",
        "$$\n",
        "P(\\text{Test} = \\text{Pozitiv}) = (0.95 \\cdot 0.01) + (0.10 \\cdot 0.99) = 0.0095 + 0.099 = 0.1085\n",
        "$$\n",
        "\n",
        "Acum putem calcula probabilitatea $ P(B \\mid \\text{Test} = \\text{Pozitiv}) $:\n",
        "\n",
        "$$\n",
        "P(B \\mid \\text{Test} = \\text{Pozitiv}) = \\frac{P(\\text{Test} = \\text{Pozitiv} \\mid B) \\cdot P(B)}{P(\\text{Test} = \\text{Pozitiv})} = \\frac{0.0095}{0.1085} \\approx 0.0875\n",
        "$$\n",
        "\n",
        "Deci, probabilitatea ca o persoana sa fie bolnava, daca testul a fost pozitiv, este aproximativ 0.0875 sau 8.75%.\n",
        "\n",
        "b) Care ar trebui să fie specificitatea minimă pentru ca probabilitatea de mai sus să ajungă la 50%?\n",
        "\n",
        "Formula lui Bayes pentru $ P(B \\mid \\text{Test} = \\text{Pozitiv}) $ este:\n",
        "\n",
        "$$\n",
        "P(B \\mid \\text{Test} = \\text{Pozitiv}) = \\frac{P(\\text{Test} = \\text{Pozitiv} \\mid B) \\cdot P(B)}{P(\\text{Test} = \\text{Pozitiv})}\n",
        "$$\n",
        "\n",
        "Folosind teorema probabilitatilor totale, $ P(\\text{Test} = \\text{Pozitiv}) $ se poate scrie astfel:\n",
        "\n",
        "$$\n",
        "P(\\text{Test} = \\text{Pozitiv}) = P(\\text{Test} = \\text{Pozitiv} \\mid B) \\cdot P(B) + P(\\text{Test} = \\text{Pozitiv} \\mid \\neg B) \\cdot P(\\neg B)\n",
        "$$\n",
        "\n",
        "Calculam si avem:\n",
        "\n",
        "$$\n",
        "P(\\text{Test} = \\text{Pozitiv}) = 0.95 \\cdot 0.01 + (1 - \\text{Specificitate}) \\cdot 0.99\n",
        "$$\n",
        "\n",
        "Noi vrem sa determinam specificitatea minima astfel incat:\n",
        "\n",
        "$$\n",
        "P(B \\mid \\text{Test} = \\text{Pozitiv}) = 0.5\n",
        "$$\n",
        "\n",
        "Deci inlocuim aceasta valoare in formula lui Bayes:\n",
        "\n",
        "$$\n",
        "0.5 = \\frac{0.95 \\cdot 0.01}{P(\\text{Test} = \\text{Pozitiv})}\n",
        "$$\n",
        "\n",
        "$$\n",
        "0.5 = \\frac{0.95 \\cdot 0.01}{0.95 \\cdot 0.01 + (1 - \\text{Specificitate}) \\cdot 0.99}\n",
        "$$\n",
        "\n",
        "$$\n",
        "0.5 \\cdot (0.95 \\cdot 0.01 + (1 - \\text{Specificitate}) \\cdot 0.99) = 0.95 \\cdot 0.01\n",
        "$$\n",
        "\n",
        "$$\n",
        "0.5 \\cdot 0.95 \\cdot 0.01 + 0.5 \\cdot (1 - \\text{Specificitate}) \\cdot 0.99 = 0.95 \\cdot 0.01\n",
        "$$\n",
        "\n",
        "$$\n",
        "0.5 \\cdot (1 - \\text{Specificitate}) \\cdot 0.99 = 0.95 \\cdot 0.01 - 0.5 \\cdot 0.95 \\cdot 0.01\n",
        "$$\n",
        "\n",
        "$$\n",
        "0.5 \\cdot (1 - \\text{Specificitate}) \\cdot 0.99 = (0.95 - 0.5 \\cdot 0.95) \\cdot 0.01\n",
        "$$\n",
        "\n",
        "$$\n",
        "0.5 \\cdot (1 - \\text{Specificitate}) \\cdot 0.99 = 0.475 \\cdot 0.01\n",
        "$$\n",
        "\n",
        "$$\n",
        "\\text{Specificitate} = 1 - \\frac{0.00475}{0.495}\n",
        "$$\n",
        "\n",
        "$$\n",
        "\\text{Specificitate} \\approx 1 - 0.009595 = 0.990405\n",
        "$$\n",
        "\n",
        "=> specificitatea minima necesara pentru ca probabilitatea ca o persoana sa fie bolnava, daca testul a fost pozitiv, sa fie 50% este aproximativ **99.04%**.\n"
      ],
      "metadata": {
        "id": "uIXpT3PtzeGn"
      }
    },
    {
      "cell_type": "markdown",
      "source": [
        "# Ex 2"
      ],
      "metadata": {
        "id": "TrA0ImY_3fft"
      }
    },
    {
      "cell_type": "markdown",
      "source": [
        "(estimarea parametrilor). Doreşti sa deschizi o nouă locaţie fast-food în oraş. Analizând volumul de trafic al locaţiei, aproximezi ca numărul de clienţi care ar intra în restaurant umează o distribuţie Poisson de parametru λ = 20\n",
        "clienţi/oră.\n",
        "\n",
        "Timpul de plasare si plată a unei comenzi la o casă urmează o distribuţie exponenţială cu media de 2 minute. O staţie de gătit pregateşte o comandă intr-un timp descris de o distribuţie exponenţială cu media de α minute.\n",
        "\n",
        "1. Definiţi modelul probabilist (simularea experienţiei) care sa descrie contextul de mai sus.\n",
        "\n",
        "2. Determinaţi care este (cu aproximaţie) α maxim pentru a le putea servi mancarea intr-un timp mai scurt de 15 minute tuturor clienţilor care intră într-o oră, cu o probabilitate de 95%.\n",
        "\n",
        "3. Cu α astfel calculat, determinaţi timpul mediu de aşteptare pentru a fi servit al unui client.\n",
        "\n",
        "Indicaţie. Pentru acest exerciţiu, nu trebuie folosită decât libraria numpy sau stats."
      ],
      "metadata": {
        "id": "wf87n2qN3hyQ"
      }
    },
    {
      "cell_type": "code",
      "source": [
        "import numpy as np\n",
        "from scipy.stats import poisson, expon\n",
        "\n",
        "# 1.\n",
        "lambda_clients = 20\n",
        "mean_payment_time = 2\n",
        "total_time_limit = 15\n",
        "simulations = 10000\n",
        "\n",
        "# 2.\n",
        "def probability_served_in_time(alpha):\n",
        "    payment_times = expon.rvs(scale=mean_payment_time, size=simulations)\n",
        "    cooking_times = expon.rvs(scale=alpha, size=simulations)\n",
        "    total_times = payment_times + cooking_times\n",
        "    return np.mean(total_times < total_time_limit)\n",
        "\n",
        "alpha_values = np.linspace(1, 30, 100)\n",
        "probabilities = [probability_served_in_time(alpha) for alpha in alpha_values]\n",
        "\n",
        "# 3.\n",
        "alpha_max = alpha_values[np.where(np.array(probabilities) >= 0.95)[0][0]]\n",
        "\n",
        "mean_wait_time = mean_payment_time + alpha_max\n",
        "\n",
        "print(f'α maxim: {alpha_max:.2f} minute')\n",
        "print(f'Timpul mediu de așteptare: {mean_wait_time:.2f} minute')\n"
      ],
      "metadata": {
        "colab": {
          "base_uri": "https://localhost:8080/"
        },
        "id": "hI8zQT2w4Ns9",
        "outputId": "ce1bb513-c4c3-4ff3-ebc9-33a73243c3d1"
      },
      "execution_count": 1,
      "outputs": [
        {
          "output_type": "stream",
          "name": "stdout",
          "text": [
            "α maxim: 1.00 minute\n",
            "Timpul mediu de așteptare: 3.00 minute\n"
          ]
        }
      ]
    }
  ]
}